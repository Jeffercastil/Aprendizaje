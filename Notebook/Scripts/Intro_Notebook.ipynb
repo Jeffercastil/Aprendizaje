{
 "cells": [
  {
   "cell_type": "markdown",
   "id": "0b113838-f0d1-4923-8c60-7a4a03e83826",
   "metadata": {},
   "source": [
    "Markdown es solo para texto notas, todo lo relacionado a los textos que queremos agregar.\n",
    "\n",
    "Los datos se almacenan en el sistema, para tipos de variables como decir que x=9, y si lo utilizo en otra linea y esta se ejecuta, como en una suma digamos x+3, sumaria 12, pero si quiero que no se guarde nada y se reinicie el kernel, se debe selecionar KERNEL , RESTART KERNEL\n",
    "\n",
    "DATOS ESCALARES\n",
    "\n",
    "Type identifica el tipo de dato, type(5.0) float, type(4) int\n",
    "z=2+3j numero complejo\n",
    "si el dato es string a='6', y deseo convertirlo en entero se realiza lo siguiente int (a)\n"
   ]
  },
  {
   "cell_type": "code",
   "execution_count": 65,
   "id": "5088cea8-cb5e-4310-afc8-a019a3c446ae",
   "metadata": {},
   "outputs": [],
   "source": [
    "X=5"
   ]
  },
  {
   "cell_type": "code",
   "execution_count": 66,
   "id": "bbb3b92a-c471-4c01-84cc-51fe1510df81",
   "metadata": {},
   "outputs": [
    {
     "data": {
      "text/plain": [
       "int"
      ]
     },
     "execution_count": 66,
     "metadata": {},
     "output_type": "execute_result"
    }
   ],
   "source": [
    "type(X)"
   ]
  },
  {
   "cell_type": "code",
   "execution_count": 67,
   "id": "1e17e720-2537-4f00-a326-88689887402d",
   "metadata": {},
   "outputs": [],
   "source": [
    "y=5.0"
   ]
  },
  {
   "cell_type": "code",
   "execution_count": 68,
   "id": "8ed224e3-0ce1-4aff-8388-424e3bb7d76a",
   "metadata": {},
   "outputs": [
    {
     "data": {
      "text/plain": [
       "float"
      ]
     },
     "execution_count": 68,
     "metadata": {},
     "output_type": "execute_result"
    }
   ],
   "source": [
    "type(y)"
   ]
  },
  {
   "cell_type": "code",
   "execution_count": 69,
   "id": "dab586ec-6c7f-43c3-b24b-635b0f1283aa",
   "metadata": {},
   "outputs": [
    {
     "data": {
      "text/plain": [
       "10.0"
      ]
     },
     "execution_count": 69,
     "metadata": {},
     "output_type": "execute_result"
    }
   ],
   "source": [
    "X+y"
   ]
  },
  {
   "cell_type": "code",
   "execution_count": 70,
   "id": "46b66daf-3def-4436-9500-46d4bdaef986",
   "metadata": {},
   "outputs": [],
   "source": [
    "es_verdadero=False"
   ]
  },
  {
   "cell_type": "code",
   "execution_count": null,
   "id": "2972ba44-0f57-4333-982c-b98dde7b310c",
   "metadata": {},
   "outputs": [],
   "source": []
  },
  {
   "cell_type": "code",
   "execution_count": 71,
   "id": "24f67a78-4d04-4726-9fa9-58c6d9726aa6",
   "metadata": {},
   "outputs": [
    {
     "data": {
      "text/plain": [
       "False"
      ]
     },
     "execution_count": 71,
     "metadata": {},
     "output_type": "execute_result"
    }
   ],
   "source": [
    "es_verdadero"
   ]
  },
  {
   "cell_type": "code",
   "execution_count": 72,
   "id": "7cbcf372-0897-431e-8371-b3207b115d9b",
   "metadata": {},
   "outputs": [],
   "source": [
    "z=2+3j"
   ]
  },
  {
   "cell_type": "code",
   "execution_count": 73,
   "id": "3ea2e6e9-b27a-41bd-bedb-9fc6b544f0c1",
   "metadata": {},
   "outputs": [
    {
     "data": {
      "text/plain": [
       "complex"
      ]
     },
     "execution_count": 73,
     "metadata": {},
     "output_type": "execute_result"
    }
   ],
   "source": [
    "type(z)"
   ]
  },
  {
   "cell_type": "code",
   "execution_count": 74,
   "id": "21ae309e-e414-4226-a167-85789463057c",
   "metadata": {},
   "outputs": [],
   "source": [
    "a='6'"
   ]
  },
  {
   "cell_type": "code",
   "execution_count": 75,
   "id": "f18e3e43-51d0-4798-921d-0bd63bc34924",
   "metadata": {},
   "outputs": [
    {
     "data": {
      "text/plain": [
       "str"
      ]
     },
     "execution_count": 75,
     "metadata": {},
     "output_type": "execute_result"
    }
   ],
   "source": [
    "type(a)"
   ]
  },
  {
   "cell_type": "code",
   "execution_count": 76,
   "id": "6ea4e759-72ce-4ae9-8bb9-78ad11406005",
   "metadata": {},
   "outputs": [
    {
     "data": {
      "text/plain": [
       "6"
      ]
     },
     "execution_count": 76,
     "metadata": {},
     "output_type": "execute_result"
    }
   ],
   "source": [
    "int (a)"
   ]
  },
  {
   "cell_type": "code",
   "execution_count": 77,
   "id": "6089cffc-1199-45bc-a885-b3462cba34d3",
   "metadata": {},
   "outputs": [],
   "source": [
    "b=int(a)"
   ]
  },
  {
   "cell_type": "code",
   "execution_count": 78,
   "id": "b62f9eab-7966-41ea-a48b-559bab8d02ff",
   "metadata": {},
   "outputs": [
    {
     "data": {
      "text/plain": [
       "int"
      ]
     },
     "execution_count": 78,
     "metadata": {},
     "output_type": "execute_result"
    }
   ],
   "source": [
    "type(b)"
   ]
  },
  {
   "cell_type": "markdown",
   "id": "930a67de-2a09-46ca-a5ac-e7aab9f7e587",
   "metadata": {},
   "source": [
    "operadores logicos"
   ]
  },
  {
   "cell_type": "code",
   "execution_count": 79,
   "id": "8a6b1900-d3ff-429e-8b42-384990268329",
   "metadata": {},
   "outputs": [
    {
     "name": "stdout",
     "output_type": "stream",
     "text": [
      "Puede aplicar para el trabajo\n"
     ]
    }
   ],
   "source": [
    "edad =26\n",
    "tiene_experiencia =True\n",
    "\n",
    "if edad>18 and tiene_experiencia:\n",
    "    print(\"Puede aplicar para el trabajo\")\n",
    "else:\n",
    "    print(\"no cumple con los requisitos\")"
   ]
  },
  {
   "cell_type": "code",
   "execution_count": 80,
   "id": "f07aac74-8143-45f6-a92a-0e1639066a12",
   "metadata": {},
   "outputs": [
    {
     "name": "stdout",
     "output_type": "stream",
     "text": [
      "La persona es estudiante o empleado\n"
     ]
    }
   ],
   "source": [
    "es_estudiante =False\n",
    "es_empleado =True\n",
    "\n",
    "if es_estudiante or es_empleado:\n",
    "    print(\"La persona es estudiante o empleado\")\n",
    "else:\n",
    "    print(\"La persona no es estudiante ni empleado\")"
   ]
  },
  {
   "cell_type": "code",
   "execution_count": null,
   "id": "c743d27b",
   "metadata": {},
   "outputs": [],
   "source": []
  },
  {
   "cell_type": "code",
   "execution_count": 81,
   "id": "1ed78623-7f27-46fc-89ed-90e9d3d3190f",
   "metadata": {},
   "outputs": [
    {
     "data": {
      "text/plain": [
       "False"
      ]
     },
     "execution_count": 81,
     "metadata": {},
     "output_type": "execute_result"
    }
   ],
   "source": [
    "not True"
   ]
  },
  {
   "cell_type": "code",
   "execution_count": 82,
   "id": "fa250f8e-9773-4d96-868a-ba32448d1a31",
   "metadata": {},
   "outputs": [
    {
     "name": "stdout",
     "output_type": "stream",
     "text": [
      "Esta lloviendo\n"
     ]
    }
   ],
   "source": [
    "llueve = True\n",
    "\n",
    "if not llueve:\n",
    "    print(\"No esta lloviendo\")\n",
    "else:\n",
    "    print(\"Esta lloviendo\")"
   ]
  },
  {
   "cell_type": "markdown",
   "id": "0a29db65-c3d4-4973-b2e9-07a17a091a9d",
   "metadata": {},
   "source": [
    "Condicionales (if,elif,else)"
   ]
  },
  {
   "cell_type": "code",
   "execution_count": 83,
   "id": "ae36e9cf-4e72-4032-8b64-bf0f03d78311",
   "metadata": {},
   "outputs": [
    {
     "name": "stdout",
     "output_type": "stream",
     "text": [
      "Es par\n"
     ]
    }
   ],
   "source": [
    "#Determinar si un numero es par\n",
    "N =16\n",
    "if N % 2 ==0:\n",
    "    print(\"Es par\")\n",
    "else:\n",
    "    print (\"El numero es impar\")    "
   ]
  },
  {
   "cell_type": "code",
   "execution_count": 84,
   "id": "93f58c4f",
   "metadata": {},
   "outputs": [
    {
     "name": "stdout",
     "output_type": "stream",
     "text": [
      "El numero es positivo\n"
     ]
    }
   ],
   "source": [
    "#Validar signo de un numero\n",
    "\n",
    "x=12\n",
    "\n",
    "if x > 0:\n",
    "    print (\"El numero es positivo\")\n",
    "elif x ==0:\n",
    "    print(\"El numero es cero\")\n",
    "else:\n",
    "    print(\"El numero es negativo\")"
   ]
  },
  {
   "cell_type": "markdown",
   "id": "82c75a1c",
   "metadata": {},
   "source": [
    "Match Case"
   ]
  },
  {
   "cell_type": "code",
   "execution_count": 85,
   "id": "f10b65ce",
   "metadata": {},
   "outputs": [
    {
     "name": "stdout",
     "output_type": "stream",
     "text": [
      "Opcion normal\n"
     ]
    }
   ],
   "source": [
    "numero = 2\n",
    "match numero:\n",
    "    case 1:\n",
    "        print(\"Opcion vegetariana\")\n",
    "    case 2:\n",
    "        print(\"Opcion normal\")\n",
    "    case 3:\n",
    "        print(\"Ninguna Opcion\")    "
   ]
  },
  {
   "cell_type": "code",
   "execution_count": 86,
   "id": "1a4a04a7",
   "metadata": {},
   "outputs": [
    {
     "name": "stdout",
     "output_type": "stream",
     "text": [
      "No se puede clasificar\n"
     ]
    }
   ],
   "source": [
    "numero = 0\n",
    "match numero:\n",
    "    case 1:\n",
    "        print(\"Cero\")\n",
    "    case  n if n > 0:\n",
    "        print (\"Positivo\")\n",
    "    case n if n < 0:\n",
    "        print(\"Negativo\")\n",
    "    case _:\n",
    "        print(\"No se puede clasificar\")\n",
    "\n"
   ]
  },
  {
   "cell_type": "code",
   "execution_count": 87,
   "id": "40cd1b0a",
   "metadata": {},
   "outputs": [
    {
     "name": "stdout",
     "output_type": "stream",
     "text": [
      "Bajo peso\n"
     ]
    }
   ],
   "source": [
    "imc = 1\n",
    "match imc:\n",
    "    case valor if 0 < valor <= 18.5:\n",
    "        print(\"Bajo peso\")\n",
    "    case valor if 18.5 < valor <=24.9:\n",
    "        print(\"Peso normal saludable\")\n",
    "    case valor if 24.9 < valor <=29.9:\n",
    "        print(\"Sobrepeso\")\n",
    "    case valor if 29.9 <  valor <=34.9:\n",
    "        print(\" Obesidad clase 1 Moderada\")\n",
    "    case valor if 34.9 < valor <=39.9:\n",
    "        print(\"Obesidad clase 2 severa\")\n",
    "    case valor if 39.9 < valor <=valor:\n",
    "        print(\"Obesidad clase 3 muy severa\")\n",
    "    case _:\n",
    "        print(\" Valores de IMC no validos\")"
   ]
  },
  {
   "cell_type": "markdown",
   "id": "4329c581",
   "metadata": {},
   "source": [
    "Cadenas de texto y operaciones con Strings"
   ]
  },
  {
   "cell_type": "code",
   "execution_count": 88,
   "id": "95a01131",
   "metadata": {},
   "outputs": [],
   "source": [
    "p=\"Pepito\"\n",
    "q=\"Perez\"\n"
   ]
  },
  {
   "cell_type": "code",
   "execution_count": 89,
   "id": "4d4acc3e",
   "metadata": {},
   "outputs": [],
   "source": [
    "r=p +\" \"+ q"
   ]
  },
  {
   "cell_type": "code",
   "execution_count": 90,
   "id": "8926c704",
   "metadata": {},
   "outputs": [
    {
     "data": {
      "text/plain": [
       "'Pepito Perez'"
      ]
     },
     "execution_count": 90,
     "metadata": {},
     "output_type": "execute_result"
    }
   ],
   "source": [
    "r"
   ]
  },
  {
   "cell_type": "code",
   "execution_count": 91,
   "id": "192482f0",
   "metadata": {},
   "outputs": [
    {
     "data": {
      "text/plain": [
       "'Pepi'"
      ]
     },
     "execution_count": 91,
     "metadata": {},
     "output_type": "execute_result"
    }
   ],
   "source": [
    "# si quiere obtener la letra en especifico debo especificar asi\n",
    "r[0:4]"
   ]
  },
  {
   "cell_type": "code",
   "execution_count": 92,
   "id": "158a2636",
   "metadata": {},
   "outputs": [
    {
     "data": {
      "text/plain": [
       "12"
      ]
     },
     "execution_count": 92,
     "metadata": {},
     "output_type": "execute_result"
    }
   ],
   "source": [
    "# len sirve para contar la cantidad de caracteres \n",
    "len(r)"
   ]
  },
  {
   "cell_type": "code",
   "execution_count": 93,
   "id": "ffac4788",
   "metadata": {},
   "outputs": [
    {
     "data": {
      "text/plain": [
       "'z'"
      ]
     },
     "execution_count": 93,
     "metadata": {},
     "output_type": "execute_result"
    }
   ],
   "source": [
    "#esto es una forma\n",
    "k= len(r)\n",
    "r[k-1]"
   ]
  },
  {
   "cell_type": "code",
   "execution_count": 94,
   "id": "845bacd0",
   "metadata": {},
   "outputs": [
    {
     "data": {
      "text/plain": [
       "'ere'"
      ]
     },
     "execution_count": 94,
     "metadata": {},
     "output_type": "execute_result"
    }
   ],
   "source": [
    "#mejor forma\n",
    "r[-4:-1]"
   ]
  },
  {
   "cell_type": "code",
   "execution_count": 95,
   "id": "4b4499ea",
   "metadata": {},
   "outputs": [
    {
     "data": {
      "text/plain": [
       "'PEPITO'"
      ]
     },
     "execution_count": 95,
     "metadata": {},
     "output_type": "execute_result"
    }
   ],
   "source": [
    "#cambiar de mayuscula a minuscula o viceversa upper mayuscula\n",
    "#lower minuscula\n",
    "p.upper()"
   ]
  },
  {
   "cell_type": "code",
   "execution_count": 96,
   "id": "1fe30f24",
   "metadata": {},
   "outputs": [
    {
     "data": {
      "text/plain": [
       "'PEREZ'"
      ]
     },
     "execution_count": 96,
     "metadata": {},
     "output_type": "execute_result"
    }
   ],
   "source": [
    "q.upper()"
   ]
  },
  {
   "cell_type": "code",
   "execution_count": 97,
   "id": "d689660d",
   "metadata": {},
   "outputs": [
    {
     "data": {
      "text/plain": [
       "'Jorge'"
      ]
     },
     "execution_count": 97,
     "metadata": {},
     "output_type": "execute_result"
    }
   ],
   "source": [
    "#Para que inicie una palabra en mayuscula se utiliza capitalize() solo la primera en mayus\n",
    "\"jorge\".capitalize()"
   ]
  },
  {
   "cell_type": "code",
   "execution_count": 98,
   "id": "a95fba81",
   "metadata": {},
   "outputs": [
    {
     "data": {
      "text/plain": [
       "['Pepito', 'Perez']"
      ]
     },
     "execution_count": 98,
     "metadata": {},
     "output_type": "execute_result"
    }
   ],
   "source": [
    "#convierte a una lista split()\n",
    "r.split()"
   ]
  },
  {
   "cell_type": "markdown",
   "id": "06f0a064",
   "metadata": {},
   "source": [
    "LISTAS Y TUPLAS"
   ]
  },
  {
   "cell_type": "code",
   "execution_count": 99,
   "id": "88e6fa73",
   "metadata": {},
   "outputs": [],
   "source": [
    "# colecciones de objetos, en el cual se puede acceder, almacenan datos en un orden especifico\n",
    "#Lista con estos simbolos [] cambian\n",
    "#tupla con estos simbolos () No cambian\n",
    "\n",
    "mi_lista =[1, 2, 3, \"hola\", True]"
   ]
  },
  {
   "cell_type": "code",
   "execution_count": 100,
   "id": "b6c37054",
   "metadata": {},
   "outputs": [],
   "source": [
    "#listas pueden cambiar los valores que tiene , tuplas no son inmutables\n",
    "mi_tupla =(1, 2, 3, \"hola\", True)"
   ]
  },
  {
   "cell_type": "code",
   "execution_count": 101,
   "id": "403ad17c",
   "metadata": {},
   "outputs": [],
   "source": [
    "mi_lista[1] =\"mano\""
   ]
  },
  {
   "cell_type": "code",
   "execution_count": 102,
   "id": "9bdfe559",
   "metadata": {},
   "outputs": [
    {
     "data": {
      "text/plain": [
       "[1, 'mano', 3, 'hola', True]"
      ]
     },
     "execution_count": 102,
     "metadata": {},
     "output_type": "execute_result"
    }
   ],
   "source": [
    "mi_lista"
   ]
  },
  {
   "cell_type": "code",
   "execution_count": 103,
   "id": "8a639574",
   "metadata": {},
   "outputs": [
    {
     "data": {
      "text/plain": [
       "(1, 2, 3, 'hola', True)"
      ]
     },
     "execution_count": 103,
     "metadata": {},
     "output_type": "execute_result"
    }
   ],
   "source": [
    "mi_tupla"
   ]
  },
  {
   "cell_type": "code",
   "execution_count": 104,
   "id": "6f23b375",
   "metadata": {},
   "outputs": [
    {
     "name": "stdout",
     "output_type": "stream",
     "text": [
      "[1, 'mano', 3, 'hola', True, 8]\n"
     ]
    }
   ],
   "source": [
    "#agregar un elemento\n",
    "mi_lista.append(8)\n",
    "print(mi_lista)"
   ]
  },
  {
   "cell_type": "code",
   "execution_count": 105,
   "id": "7c1365f8",
   "metadata": {},
   "outputs": [
    {
     "data": {
      "text/plain": [
       "6"
      ]
     },
     "execution_count": 105,
     "metadata": {},
     "output_type": "execute_result"
    }
   ],
   "source": [
    "len(mi_lista)"
   ]
  },
  {
   "cell_type": "code",
   "execution_count": 106,
   "id": "3f662aac",
   "metadata": {},
   "outputs": [
    {
     "data": {
      "text/plain": [
       "5"
      ]
     },
     "execution_count": 106,
     "metadata": {},
     "output_type": "execute_result"
    }
   ],
   "source": [
    "len(mi_tupla)"
   ]
  },
  {
   "cell_type": "code",
   "execution_count": 107,
   "id": "36a6b49f",
   "metadata": {},
   "outputs": [
    {
     "data": {
      "text/plain": [
       "[3, 'hola']"
      ]
     },
     "execution_count": 107,
     "metadata": {},
     "output_type": "execute_result"
    }
   ],
   "source": [
    "mi_lista[2:4]"
   ]
  },
  {
   "cell_type": "code",
   "execution_count": 108,
   "id": "a571fb63",
   "metadata": {},
   "outputs": [],
   "source": [
    "#remover un elemento\n",
    "mi_lista.remove(3)"
   ]
  },
  {
   "cell_type": "code",
   "execution_count": 109,
   "id": "048bddea",
   "metadata": {},
   "outputs": [
    {
     "data": {
      "text/plain": [
       "[1, 'mano', 'hola', True, 8]"
      ]
     },
     "execution_count": 109,
     "metadata": {},
     "output_type": "execute_result"
    }
   ],
   "source": [
    "mi_lista"
   ]
  },
  {
   "cell_type": "code",
   "execution_count": 110,
   "id": "d6130d89",
   "metadata": {},
   "outputs": [],
   "source": [
    "L1 = ['a', 'b', 'c']"
   ]
  },
  {
   "cell_type": "code",
   "execution_count": 111,
   "id": "a35ad8b7",
   "metadata": {},
   "outputs": [],
   "source": [
    "L2=L1"
   ]
  },
  {
   "cell_type": "code",
   "execution_count": 112,
   "id": "afd2c149",
   "metadata": {},
   "outputs": [
    {
     "data": {
      "text/plain": [
       "['a', 'b', 'c']"
      ]
     },
     "execution_count": 112,
     "metadata": {},
     "output_type": "execute_result"
    }
   ],
   "source": [
    "L2"
   ]
  },
  {
   "cell_type": "code",
   "execution_count": 113,
   "id": "61011e68",
   "metadata": {},
   "outputs": [],
   "source": [
    "L2[1] ='z'"
   ]
  },
  {
   "cell_type": "code",
   "execution_count": 114,
   "id": "e6ed0763",
   "metadata": {},
   "outputs": [
    {
     "data": {
      "text/plain": [
       "['a', 'z', 'c']"
      ]
     },
     "execution_count": 114,
     "metadata": {},
     "output_type": "execute_result"
    }
   ],
   "source": [
    "L1"
   ]
  },
  {
   "cell_type": "code",
   "execution_count": 115,
   "id": "f5aa3d4d",
   "metadata": {},
   "outputs": [],
   "source": [
    "#copia de la primera sin modificarla\n",
    "L3 =L1.copy()"
   ]
  },
  {
   "cell_type": "code",
   "execution_count": 116,
   "id": "72639baa",
   "metadata": {},
   "outputs": [],
   "source": [
    "L3[1] = 'd'"
   ]
  },
  {
   "cell_type": "code",
   "execution_count": 117,
   "id": "ff42c53e",
   "metadata": {},
   "outputs": [
    {
     "data": {
      "text/plain": [
       "['a', 'd', 'c']"
      ]
     },
     "execution_count": 117,
     "metadata": {},
     "output_type": "execute_result"
    }
   ],
   "source": [
    "L3"
   ]
  },
  {
   "cell_type": "code",
   "execution_count": 118,
   "id": "18a0a849",
   "metadata": {},
   "outputs": [
    {
     "data": {
      "text/plain": [
       "['a', 'z', 'c']"
      ]
     },
     "execution_count": 118,
     "metadata": {},
     "output_type": "execute_result"
    }
   ],
   "source": [
    "L1"
   ]
  },
  {
   "cell_type": "code",
   "execution_count": 119,
   "id": "f6462e0a",
   "metadata": {},
   "outputs": [
    {
     "data": {
      "text/plain": [
       "'a-z-c'"
      ]
     },
     "execution_count": 119,
     "metadata": {},
     "output_type": "execute_result"
    }
   ],
   "source": [
    "# CON join se puede obtener algo diferente al split , y como se separen \n",
    "'-'.join(L1)"
   ]
  },
  {
   "cell_type": "markdown",
   "id": "91d46b96",
   "metadata": {},
   "source": [
    "For , Break, Continue"
   ]
  },
  {
   "cell_type": "code",
   "execution_count": 120,
   "id": "3355373c",
   "metadata": {},
   "outputs": [
    {
     "name": "stdout",
     "output_type": "stream",
     "text": [
      "1\n",
      "4\n",
      "5\n",
      "2\n",
      "3\n"
     ]
    }
   ],
   "source": [
    "#permite iterar cualquier elemento\n",
    "secuencia =(1,4,5,2,3)\n",
    "for elemento in secuencia:\n",
    "    print(elemento)"
   ]
  },
  {
   "cell_type": "code",
   "execution_count": 121,
   "id": "c2d87306",
   "metadata": {},
   "outputs": [
    {
     "name": "stdout",
     "output_type": "stream",
     "text": [
      "P\n",
      "h\n",
      "y\n",
      "t\n",
      "h\n",
      "o\n",
      "n\n"
     ]
    }
   ],
   "source": [
    "for letra in \"Phython\":\n",
    "    print(letra)"
   ]
  },
  {
   "cell_type": "code",
   "execution_count": 122,
   "id": "e622adc9",
   "metadata": {},
   "outputs": [
    {
     "name": "stdout",
     "output_type": "stream",
     "text": [
      "0\n",
      "1\n",
      "2\n",
      "3\n"
     ]
    }
   ],
   "source": [
    "for x in range(4):\n",
    "    print(x)"
   ]
  },
  {
   "cell_type": "code",
   "execution_count": 123,
   "id": "9bb815b7",
   "metadata": {},
   "outputs": [
    {
     "name": "stdout",
     "output_type": "stream",
     "text": [
      "1\n",
      "4\n",
      "5\n",
      "2\n",
      "3\n"
     ]
    }
   ],
   "source": [
    "lista =(1,4,5,2,3)\n",
    "for i in range(len(lista)):\n",
    "    print(lista[i])"
   ]
  },
  {
   "cell_type": "code",
   "execution_count": 124,
   "id": "c78d7f0f",
   "metadata": {},
   "outputs": [
    {
     "name": "stdout",
     "output_type": "stream",
     "text": [
      "Elemento 0: 1\n",
      "Elemento 1: 4\n",
      "Elemento 2: 5\n",
      "Elemento 3: 2\n",
      "Elemento 4: 3\n"
     ]
    }
   ],
   "source": [
    "# funcion de iteracion enumerate\n",
    "for indice, valor in enumerate(lista):\n",
    "    #Formateo de cadena de texto,\n",
    "    print(f\"Elemento {indice}: {valor}\")"
   ]
  },
  {
   "cell_type": "code",
   "execution_count": 125,
   "id": "51e6c5fd",
   "metadata": {},
   "outputs": [
    {
     "name": "stdout",
     "output_type": "stream",
     "text": [
      "1\n",
      "4\n",
      "5\n",
      "2\n"
     ]
    }
   ],
   "source": [
    "secuencia =(1,4,5,2,3)\n",
    "for elemento in secuencia:\n",
    "    print(elemento)\n",
    "    if elemento ==2:\n",
    "        break"
   ]
  },
  {
   "cell_type": "code",
   "execution_count": 126,
   "id": "dec1dfb4",
   "metadata": {},
   "outputs": [
    {
     "name": "stdout",
     "output_type": "stream",
     "text": [
      "1\n",
      "4\n",
      "2\n",
      "3\n"
     ]
    }
   ],
   "source": [
    "secuencia =(1,4,5,2,3)\n",
    "for elemento in secuencia:\n",
    "    if elemento ==5:\n",
    "        continue\n",
    "    print(elemento)\n",
    "    "
   ]
  },
  {
   "cell_type": "markdown",
   "id": "e25347e0",
   "metadata": {},
   "source": [
    "While"
   ]
  },
  {
   "cell_type": "code",
   "execution_count": 127,
   "id": "d7e735f5",
   "metadata": {},
   "outputs": [
    {
     "name": "stdout",
     "output_type": "stream",
     "text": [
      "Contador : 0\n",
      "Contador : 1\n",
      "Contador : 2\n",
      "Contador : 3\n",
      "Contador : 4\n"
     ]
    }
   ],
   "source": [
    "contador =0\n",
    "while contador <5:\n",
    " print(f\"Contador : {contador}\")\n",
    " contador += 1"
   ]
  },
  {
   "cell_type": "code",
   "execution_count": null,
   "id": "d19050bb",
   "metadata": {},
   "outputs": [
    {
     "name": "stdout",
     "output_type": "stream",
     "text": [
      "Contador : 0\n",
      "Contador : 1\n",
      "Contador : 2\n",
      "Contador : 3\n",
      "Contador : 4\n"
     ]
    }
   ],
   "source": [
    "contador = 0\n",
    "while True:\n",
    "    print (f\"Contador : {contador}\")\n",
    "    contador +=1\n",
    "# Sin esta linea de codigo, el break, seria un codigo infinito ya que se esta definiendo el valor en verdader\n",
    "    if( contador ) ==5:\n",
    "        break"
   ]
  },
  {
   "cell_type": "code",
   "execution_count": 131,
   "id": "3b59703a",
   "metadata": {},
   "outputs": [
    {
     "name": "stdout",
     "output_type": "stream",
     "text": [
      "Contador : 1\n",
      "Contador : 2\n",
      "Contador : 4\n",
      "Contador : 5\n"
     ]
    }
   ],
   "source": [
    "contador =0\n",
    "while contador < 5:\n",
    "    contador += 1\n",
    "\n",
    "    if contador == 3:\n",
    "        continue\n",
    "\n",
    "    print(f\"Contador : {contador}\")"
   ]
  },
  {
   "cell_type": "markdown",
   "id": "874a3187",
   "metadata": {},
   "source": [
    "Dicionarios y conjuntos"
   ]
  },
  {
   "cell_type": "code",
   "execution_count": 132,
   "id": "0b7d9543",
   "metadata": {},
   "outputs": [],
   "source": [
    "mi_dicionario = {\"clave1\":3, \"clave2\":5, \"clave3\":7}"
   ]
  },
  {
   "cell_type": "code",
   "execution_count": 134,
   "id": "aa1e0117",
   "metadata": {},
   "outputs": [
    {
     "name": "stdout",
     "output_type": "stream",
     "text": [
      "7\n"
     ]
    }
   ],
   "source": [
    "valor = mi_dicionario[\"clave3\"]\n",
    "print(valor)"
   ]
  },
  {
   "cell_type": "code",
   "execution_count": null,
   "id": "e7e93caa",
   "metadata": {},
   "outputs": [],
   "source": [
    "#Modificar los valores de dicionario \n",
    "mi_dicionario[\"clave1\"] = 10"
   ]
  },
  {
   "cell_type": "code",
   "execution_count": 136,
   "id": "ebc050e4",
   "metadata": {},
   "outputs": [
    {
     "data": {
      "text/plain": [
       "{'clave1': 10, 'clave2': 5, 'clave3': 7}"
      ]
     },
     "execution_count": 136,
     "metadata": {},
     "output_type": "execute_result"
    }
   ],
   "source": [
    "mi_dicionario"
   ]
  },
  {
   "cell_type": "code",
   "execution_count": null,
   "id": "0a5b1eda",
   "metadata": {},
   "outputs": [],
   "source": [
    "#Agregar un elemento\n",
    "mi_dicionario[\"clave6\"]=10"
   ]
  },
  {
   "cell_type": "code",
   "execution_count": 140,
   "id": "dda38d43",
   "metadata": {},
   "outputs": [
    {
     "data": {
      "text/plain": [
       "{'clave1': 10, 'clave2': 5, 'clave3': 7, 'clave4': 10, 'clave6': 10}"
      ]
     },
     "execution_count": 140,
     "metadata": {},
     "output_type": "execute_result"
    }
   ],
   "source": [
    "mi_dicionario"
   ]
  },
  {
   "cell_type": "code",
   "execution_count": null,
   "id": "508e5367",
   "metadata": {},
   "outputs": [
    {
     "data": {
      "text/plain": [
       "7"
      ]
     },
     "execution_count": 141,
     "metadata": {},
     "output_type": "execute_result"
    }
   ],
   "source": [
    "#eliminar algo en los elementos del dicionario\n",
    "mi_dicionario.pop(\"clave3\")"
   ]
  },
  {
   "cell_type": "code",
   "execution_count": 142,
   "id": "107ed96d",
   "metadata": {},
   "outputs": [
    {
     "data": {
      "text/plain": [
       "{'clave1': 10, 'clave2': 5, 'clave4': 10, 'clave6': 10}"
      ]
     },
     "execution_count": 142,
     "metadata": {},
     "output_type": "execute_result"
    }
   ],
   "source": [
    "mi_dicionario"
   ]
  },
  {
   "cell_type": "code",
   "execution_count": 143,
   "id": "f7a875d4",
   "metadata": {},
   "outputs": [
    {
     "name": "stdout",
     "output_type": "stream",
     "text": [
      " Clave: clave1, Valor: 10\n",
      " Clave: clave2, Valor: 5\n",
      " Clave: clave4, Valor: 10\n",
      " Clave: clave6, Valor: 10\n"
     ]
    }
   ],
   "source": [
    "#iterar sobre un dicionario sobre el for, mas facil\n",
    "for clave, valor in mi_dicionario.items():\n",
    "    print(f\" Clave: {clave}, Valor: {valor}\")"
   ]
  },
  {
   "cell_type": "code",
   "execution_count": 144,
   "id": "73473668",
   "metadata": {},
   "outputs": [
    {
     "name": "stdout",
     "output_type": "stream",
     "text": [
      "clave1\n",
      "clave2\n",
      "clave4\n",
      "clave6\n"
     ]
    }
   ],
   "source": [
    "#solo impresion de clave\n",
    "for elemento in mi_dicionario:\n",
    "    print(elemento)"
   ]
  },
  {
   "cell_type": "code",
   "execution_count": 145,
   "id": "0187225a",
   "metadata": {},
   "outputs": [
    {
     "data": {
      "text/plain": [
       "dict_keys(['clave1', 'clave2', 'clave4', 'clave6'])"
      ]
     },
     "execution_count": 145,
     "metadata": {},
     "output_type": "execute_result"
    }
   ],
   "source": [
    "mi_dicionario.keys()"
   ]
  },
  {
   "cell_type": "code",
   "execution_count": 146,
   "id": "0514371c",
   "metadata": {},
   "outputs": [
    {
     "data": {
      "text/plain": [
       "dict_values([10, 5, 10, 10])"
      ]
     },
     "execution_count": 146,
     "metadata": {},
     "output_type": "execute_result"
    }
   ],
   "source": [
    "mi_dicionario.values()"
   ]
  },
  {
   "cell_type": "code",
   "execution_count": 147,
   "id": "9c054663",
   "metadata": {},
   "outputs": [
    {
     "data": {
      "text/plain": [
       "dict_items([('clave1', 10), ('clave2', 5), ('clave4', 10), ('clave6', 10)])"
      ]
     },
     "execution_count": 147,
     "metadata": {},
     "output_type": "execute_result"
    }
   ],
   "source": [
    "mi_dicionario.items()"
   ]
  },
  {
   "cell_type": "markdown",
   "id": "45910df2",
   "metadata": {},
   "source": [
    "Conjuntos"
   ]
  },
  {
   "cell_type": "code",
   "execution_count": 148,
   "id": "3c940ecb",
   "metadata": {},
   "outputs": [],
   "source": [
    "mi_set ={1 ,3, 9}"
   ]
  },
  {
   "cell_type": "code",
   "execution_count": 149,
   "id": "68ddb007",
   "metadata": {},
   "outputs": [
    {
     "data": {
      "text/plain": [
       "{1, 3, 9}"
      ]
     },
     "execution_count": 149,
     "metadata": {},
     "output_type": "execute_result"
    }
   ],
   "source": [
    "mi_set"
   ]
  },
  {
   "cell_type": "code",
   "execution_count": 151,
   "id": "6dfd1f53",
   "metadata": {},
   "outputs": [],
   "source": [
    "#operaciones con conjuntos\n",
    "set1={1, 2, 3}\n",
    "set2={3, 4, 5}"
   ]
  },
  {
   "cell_type": "code",
   "execution_count": 152,
   "id": "8655f362",
   "metadata": {},
   "outputs": [
    {
     "data": {
      "text/plain": [
       "{1, 2, 3, 4, 5}"
      ]
     },
     "execution_count": 152,
     "metadata": {},
     "output_type": "execute_result"
    }
   ],
   "source": [
    "set1 | set2"
   ]
  },
  {
   "cell_type": "code",
   "execution_count": 153,
   "id": "3e79df5f",
   "metadata": {},
   "outputs": [
    {
     "data": {
      "text/plain": [
       "{3}"
      ]
     },
     "execution_count": 153,
     "metadata": {},
     "output_type": "execute_result"
    }
   ],
   "source": [
    "#Interseccion\n",
    "set1 & set2"
   ]
  },
  {
   "cell_type": "code",
   "execution_count": 154,
   "id": "f8612050",
   "metadata": {},
   "outputs": [
    {
     "data": {
      "text/plain": [
       "{1, 2}"
      ]
     },
     "execution_count": 154,
     "metadata": {},
     "output_type": "execute_result"
    }
   ],
   "source": [
    "set1 - set2"
   ]
  },
  {
   "cell_type": "code",
   "execution_count": 155,
   "id": "9fdc1e6d",
   "metadata": {},
   "outputs": [
    {
     "data": {
      "text/plain": [
       "{4, 5}"
      ]
     },
     "execution_count": 155,
     "metadata": {},
     "output_type": "execute_result"
    }
   ],
   "source": [
    "set2 - set1"
   ]
  },
  {
   "cell_type": "code",
   "execution_count": 157,
   "id": "56574d3b",
   "metadata": {},
   "outputs": [
    {
     "data": {
      "text/plain": [
       "3"
      ]
     },
     "execution_count": 157,
     "metadata": {},
     "output_type": "execute_result"
    }
   ],
   "source": [
    "len(set1)"
   ]
  },
  {
   "cell_type": "code",
   "execution_count": null,
   "id": "f79303ea",
   "metadata": {},
   "outputs": [
    {
     "data": {
      "text/plain": [
       "4"
      ]
     },
     "execution_count": 158,
     "metadata": {},
     "output_type": "execute_result"
    }
   ],
   "source": [
    "#aplicar a casi todos para el conteo\n",
    "len(mi_dicionario)"
   ]
  },
  {
   "cell_type": "code",
   "execution_count": 159,
   "id": "8f408628",
   "metadata": {},
   "outputs": [
    {
     "data": {
      "text/plain": [
       "True"
      ]
     },
     "execution_count": 159,
     "metadata": {},
     "output_type": "execute_result"
    }
   ],
   "source": [
    "#COMPROBRAR SI UN ELEMENTO ESTA DENTRO DE UN CONJUNTO\n",
    "4 in set2"
   ]
  },
  {
   "cell_type": "code",
   "execution_count": 160,
   "id": "3f80a128",
   "metadata": {},
   "outputs": [
    {
     "data": {
      "text/plain": [
       "False"
      ]
     },
     "execution_count": 160,
     "metadata": {},
     "output_type": "execute_result"
    }
   ],
   "source": [
    "1 in set2"
   ]
  },
  {
   "cell_type": "code",
   "execution_count": null,
   "id": "fcc3d02d",
   "metadata": {},
   "outputs": [],
   "source": [
    "#añadir o eliminar elementos de un conjunto add y remove\n"
   ]
  },
  {
   "cell_type": "code",
   "execution_count": 161,
   "id": "66354be5",
   "metadata": {},
   "outputs": [],
   "source": [
    "mi_set ={1 ,3, 9}"
   ]
  },
  {
   "cell_type": "code",
   "execution_count": 162,
   "id": "b34deb43",
   "metadata": {},
   "outputs": [],
   "source": [
    "mi_set.add(20)"
   ]
  },
  {
   "cell_type": "code",
   "execution_count": 163,
   "id": "3b4f8d83",
   "metadata": {},
   "outputs": [
    {
     "data": {
      "text/plain": [
       "{1, 3, 9, 20}"
      ]
     },
     "execution_count": 163,
     "metadata": {},
     "output_type": "execute_result"
    }
   ],
   "source": [
    "mi_set"
   ]
  },
  {
   "cell_type": "code",
   "execution_count": 164,
   "id": "d6382943",
   "metadata": {},
   "outputs": [],
   "source": [
    "mi_set.remove(3)"
   ]
  },
  {
   "cell_type": "code",
   "execution_count": 165,
   "id": "a9b1ac51",
   "metadata": {},
   "outputs": [
    {
     "data": {
      "text/plain": [
       "{1, 9, 20}"
      ]
     },
     "execution_count": 165,
     "metadata": {},
     "output_type": "execute_result"
    }
   ],
   "source": [
    "mi_set"
   ]
  },
  {
   "cell_type": "code",
   "execution_count": null,
   "id": "66df6658",
   "metadata": {},
   "outputs": [
    {
     "data": {
      "text/plain": [
       "{1, 3, 5, 7}"
      ]
     },
     "execution_count": 166,
     "metadata": {},
     "output_type": "execute_result"
    }
   ],
   "source": [
    "#Eliminar elementos de la lista duplicados\n",
    "Lista ={1, 3 ,3,5, 7, 7}\n",
    "#convierte los elementos repetido en una lista\n",
    "set (Lista)\n"
   ]
  },
  {
   "cell_type": "code",
   "execution_count": 167,
   "id": "18c05a63",
   "metadata": {},
   "outputs": [
    {
     "data": {
      "text/plain": [
       "[1, 2, 3, 4, 5]"
      ]
     },
     "execution_count": 167,
     "metadata": {},
     "output_type": "execute_result"
    }
   ],
   "source": [
    "list(set(lista))"
   ]
  },
  {
   "cell_type": "code",
   "execution_count": null,
   "id": "29ef7218",
   "metadata": {},
   "outputs": [],
   "source": []
  },
  {
   "cell_type": "code",
   "execution_count": null,
   "id": "70fd43b7",
   "metadata": {},
   "outputs": [],
   "source": []
  },
  {
   "cell_type": "code",
   "execution_count": null,
   "id": "33ccd5eb",
   "metadata": {},
   "outputs": [],
   "source": []
  },
  {
   "cell_type": "code",
   "execution_count": null,
   "id": "cdb62c4a",
   "metadata": {},
   "outputs": [],
   "source": []
  },
  {
   "cell_type": "code",
   "execution_count": null,
   "id": "7e2cce23",
   "metadata": {},
   "outputs": [],
   "source": []
  },
  {
   "cell_type": "code",
   "execution_count": null,
   "id": "8ce6e388",
   "metadata": {},
   "outputs": [],
   "source": []
  },
  {
   "cell_type": "markdown",
   "id": "f77f6de0",
   "metadata": {},
   "source": []
  },
  {
   "cell_type": "code",
   "execution_count": null,
   "id": "a3168196",
   "metadata": {},
   "outputs": [],
   "source": []
  },
  {
   "cell_type": "code",
   "execution_count": null,
   "id": "2a167580",
   "metadata": {},
   "outputs": [],
   "source": []
  },
  {
   "cell_type": "code",
   "execution_count": null,
   "id": "bf9522f8",
   "metadata": {},
   "outputs": [],
   "source": []
  },
  {
   "cell_type": "code",
   "execution_count": null,
   "id": "0a282a3d",
   "metadata": {},
   "outputs": [],
   "source": []
  },
  {
   "cell_type": "code",
   "execution_count": null,
   "id": "bd35989d",
   "metadata": {},
   "outputs": [],
   "source": []
  },
  {
   "cell_type": "code",
   "execution_count": null,
   "id": "0569a870",
   "metadata": {},
   "outputs": [],
   "source": []
  },
  {
   "cell_type": "code",
   "execution_count": null,
   "id": "37f85ffb",
   "metadata": {},
   "outputs": [],
   "source": []
  },
  {
   "cell_type": "code",
   "execution_count": null,
   "id": "c9ebb8c6",
   "metadata": {},
   "outputs": [],
   "source": []
  },
  {
   "cell_type": "code",
   "execution_count": null,
   "id": "34ec87ca",
   "metadata": {},
   "outputs": [],
   "source": []
  },
  {
   "cell_type": "code",
   "execution_count": null,
   "id": "91544fea",
   "metadata": {},
   "outputs": [],
   "source": []
  },
  {
   "cell_type": "code",
   "execution_count": null,
   "id": "40bb83d1",
   "metadata": {},
   "outputs": [],
   "source": []
  },
  {
   "cell_type": "code",
   "execution_count": null,
   "id": "43b1affd",
   "metadata": {},
   "outputs": [],
   "source": []
  },
  {
   "cell_type": "code",
   "execution_count": null,
   "id": "b1935ae5",
   "metadata": {},
   "outputs": [],
   "source": []
  },
  {
   "cell_type": "code",
   "execution_count": null,
   "id": "10f0e20b",
   "metadata": {},
   "outputs": [],
   "source": []
  },
  {
   "cell_type": "code",
   "execution_count": null,
   "id": "a7dce4bb",
   "metadata": {},
   "outputs": [],
   "source": []
  },
  {
   "cell_type": "code",
   "execution_count": null,
   "id": "8ad8f347",
   "metadata": {},
   "outputs": [],
   "source": []
  },
  {
   "cell_type": "code",
   "execution_count": null,
   "id": "98c9a331",
   "metadata": {},
   "outputs": [],
   "source": []
  },
  {
   "cell_type": "code",
   "execution_count": null,
   "id": "8b70b4ca",
   "metadata": {},
   "outputs": [],
   "source": []
  },
  {
   "cell_type": "code",
   "execution_count": null,
   "id": "376fcea8",
   "metadata": {},
   "outputs": [],
   "source": []
  },
  {
   "cell_type": "code",
   "execution_count": null,
   "id": "8e7b33c3",
   "metadata": {},
   "outputs": [],
   "source": []
  },
  {
   "cell_type": "code",
   "execution_count": null,
   "id": "5fb89fe8",
   "metadata": {},
   "outputs": [],
   "source": []
  },
  {
   "cell_type": "code",
   "execution_count": null,
   "id": "10f8e83b",
   "metadata": {},
   "outputs": [],
   "source": []
  },
  {
   "cell_type": "code",
   "execution_count": null,
   "id": "9fc0360a",
   "metadata": {},
   "outputs": [],
   "source": []
  },
  {
   "cell_type": "code",
   "execution_count": null,
   "id": "ea4f75e8",
   "metadata": {},
   "outputs": [],
   "source": []
  },
  {
   "cell_type": "code",
   "execution_count": null,
   "id": "ce57fea4",
   "metadata": {},
   "outputs": [],
   "source": []
  },
  {
   "cell_type": "code",
   "execution_count": null,
   "id": "72df9c56",
   "metadata": {},
   "outputs": [],
   "source": []
  },
  {
   "cell_type": "code",
   "execution_count": null,
   "id": "1b390831",
   "metadata": {},
   "outputs": [],
   "source": []
  },
  {
   "cell_type": "code",
   "execution_count": null,
   "id": "15c33725",
   "metadata": {},
   "outputs": [],
   "source": []
  },
  {
   "cell_type": "code",
   "execution_count": null,
   "id": "1a063bf6",
   "metadata": {},
   "outputs": [],
   "source": []
  },
  {
   "cell_type": "code",
   "execution_count": null,
   "id": "36c8b63b",
   "metadata": {},
   "outputs": [],
   "source": []
  },
  {
   "cell_type": "code",
   "execution_count": null,
   "id": "3f250e39",
   "metadata": {},
   "outputs": [],
   "source": []
  },
  {
   "cell_type": "code",
   "execution_count": null,
   "id": "5562ebfc",
   "metadata": {},
   "outputs": [],
   "source": []
  },
  {
   "cell_type": "code",
   "execution_count": null,
   "id": "0a449466",
   "metadata": {},
   "outputs": [],
   "source": []
  },
  {
   "cell_type": "code",
   "execution_count": null,
   "id": "4c88d04e",
   "metadata": {},
   "outputs": [],
   "source": []
  },
  {
   "cell_type": "code",
   "execution_count": null,
   "id": "b74f26d6",
   "metadata": {},
   "outputs": [],
   "source": []
  },
  {
   "cell_type": "code",
   "execution_count": null,
   "id": "0e89cd68",
   "metadata": {},
   "outputs": [],
   "source": []
  },
  {
   "cell_type": "code",
   "execution_count": null,
   "id": "9ba48c74",
   "metadata": {},
   "outputs": [],
   "source": []
  },
  {
   "cell_type": "markdown",
   "id": "53fa6bc7",
   "metadata": {},
   "source": []
  },
  {
   "cell_type": "code",
   "execution_count": null,
   "id": "cc81a378",
   "metadata": {},
   "outputs": [],
   "source": []
  },
  {
   "cell_type": "code",
   "execution_count": null,
   "id": "2153e34e",
   "metadata": {},
   "outputs": [],
   "source": []
  },
  {
   "cell_type": "code",
   "execution_count": null,
   "id": "6f44f269",
   "metadata": {},
   "outputs": [],
   "source": []
  },
  {
   "cell_type": "code",
   "execution_count": null,
   "id": "95cbe596",
   "metadata": {},
   "outputs": [],
   "source": []
  },
  {
   "cell_type": "code",
   "execution_count": null,
   "id": "f5f86470",
   "metadata": {},
   "outputs": [],
   "source": []
  },
  {
   "cell_type": "code",
   "execution_count": null,
   "id": "7e1694fc",
   "metadata": {},
   "outputs": [],
   "source": []
  },
  {
   "cell_type": "code",
   "execution_count": null,
   "id": "ba8d54be",
   "metadata": {},
   "outputs": [],
   "source": []
  },
  {
   "cell_type": "code",
   "execution_count": null,
   "id": "a36eed16",
   "metadata": {},
   "outputs": [],
   "source": []
  },
  {
   "cell_type": "code",
   "execution_count": null,
   "id": "afe90c94-a70d-4f7e-b0d4-3cc18c947e7c",
   "metadata": {},
   "outputs": [],
   "source": []
  },
  {
   "cell_type": "code",
   "execution_count": null,
   "id": "3f3a04a7-6f46-4a2b-9f57-a2804eb329e1",
   "metadata": {},
   "outputs": [],
   "source": []
  },
  {
   "cell_type": "code",
   "execution_count": null,
   "id": "bd0f21e9-a101-496c-9818-233b7098c4c9",
   "metadata": {},
   "outputs": [],
   "source": []
  },
  {
   "cell_type": "code",
   "execution_count": null,
   "id": "1f6aab6a-efcc-47f8-ba44-72282b90170f",
   "metadata": {},
   "outputs": [],
   "source": []
  },
  {
   "cell_type": "code",
   "execution_count": null,
   "id": "4baec1be-8f34-4a11-8d0d-e727b8312f75",
   "metadata": {},
   "outputs": [],
   "source": []
  },
  {
   "cell_type": "code",
   "execution_count": null,
   "id": "76a5d025-bf89-4f41-9664-05ed4bf06d8f",
   "metadata": {},
   "outputs": [],
   "source": []
  },
  {
   "cell_type": "code",
   "execution_count": null,
   "id": "92faaaff-151f-4fb9-a008-0b19deb911a7",
   "metadata": {},
   "outputs": [],
   "source": []
  },
  {
   "cell_type": "code",
   "execution_count": null,
   "id": "4e5a018d-0604-44d1-af8c-06267d1a1c39",
   "metadata": {},
   "outputs": [],
   "source": []
  },
  {
   "cell_type": "code",
   "execution_count": null,
   "id": "e10f291a-8f92-46d1-bc42-b1ed9ca4b9e9",
   "metadata": {},
   "outputs": [],
   "source": []
  },
  {
   "cell_type": "code",
   "execution_count": null,
   "id": "64ca7764-9bec-4e5f-b41a-62003c5cc11e",
   "metadata": {},
   "outputs": [],
   "source": []
  }
 ],
 "metadata": {
  "kernelspec": {
   "display_name": "Python 3",
   "language": "python",
   "name": "python3"
  },
  "language_info": {
   "codemirror_mode": {
    "name": "ipython",
    "version": 3
   },
   "file_extension": ".py",
   "mimetype": "text/x-python",
   "name": "python",
   "nbconvert_exporter": "python",
   "pygments_lexer": "ipython3",
   "version": "3.13.2"
  }
 },
 "nbformat": 4,
 "nbformat_minor": 5
}
